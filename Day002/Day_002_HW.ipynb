{
 "cells": [
  {
   "cell_type": "markdown",
   "metadata": {},
   "source": [
    "## [作業目標]\n",
    "了解機器學習適合應用的領域與範疇。"
   ]
  },
  {
   "cell_type": "markdown",
   "metadata": {},
   "source": [
    "## [作業重點]\n",
    "透過瞭解機器學習的運作方式，找出非常適用機器學習應用的領域及其原因"
   ]
  },
  {
   "cell_type": "markdown",
   "metadata": {},
   "source": [
    "## 作業\n",
    "請找出一個你認為機器學習可以發光發熱的領域並闡述原因? "
   ]
  },
  {
   "cell_type": "markdown",
   "metadata": {},
   "source": [
    "廣範圍的可用於農業發展的分配與預測, 現階段農業發展大多以農民自主評斷,較缺乏整面向的規劃,若能透過環境、氣候、地理等分析提高產能與分配位置,將可有效最大化收益,在全球範圍解決糧食等資源分配問題,甚至可以納入環保議題,分析最適合的造林規劃與對流降溫方案,搭配配套的能源系統,也許可以解決目前人類面臨的最大挑戰\n",
    "\n",
    "而小範圍的應用最直接的可以用於金融產品交易,完全數據化且完整的歷史數據,相較於多變的實體環境更容易模擬分析"
   ]
  }
 ],
 "metadata": {
  "kernelspec": {
   "display_name": "Python 3",
   "language": "python",
   "name": "python3"
  },
  "language_info": {
   "codemirror_mode": {
    "name": "ipython",
    "version": 3
   },
   "file_extension": ".py",
   "mimetype": "text/x-python",
   "name": "python",
   "nbconvert_exporter": "python",
   "pygments_lexer": "ipython3",
   "version": "3.7.3"
  }
 },
 "nbformat": 4,
 "nbformat_minor": 2
}
